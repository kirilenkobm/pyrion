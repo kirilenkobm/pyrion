{
 "cells": [
  {
   "cell_type": "markdown",
   "id": "861bfc9be16bcee7",
   "metadata": {},
   "source": [
    "# Pyrion demo\n",
    "\n",
    "This notebook demonstrates all major pyrion functionality."
   ]
  },
  {
   "cell_type": "code",
   "execution_count": 1,
   "id": "initial_id",
   "metadata": {
    "ExecuteTime": {
     "end_time": "2025-08-02T17:50:40.679360Z",
     "start_time": "2025-08-02T17:50:40.092350Z"
    },
    "collapsed": true
   },
   "outputs": [],
   "source": [
    "# necessary imports\n",
    "from pyrion import read_bed12_file, read_gene_data, read_fasta, GenomicInterval\n",
    "from pyrion import TwoBitAccessor\n",
    "from pyrion.core import DEFAULT_CANONIZER\n",
    "from pyrion.core.nucleotide_sequences import SequenceType\n",
    "from pyrion import read_chain_file\n",
    "from pyrion.ops import project_intervals_through_chain, find_intersections\n",
    "from pyrion.visualization import VisualizationWindow, TranscriptFeature, create_alignment_track\n",
    "from pyrion.visualization import create_transcript_track\n",
    "from pyrion.ops.chains import project_transcript_through_chain\n",
    "from pyrion.ops.genes import extract_cds_sequence, extract_utr3_sequence, extract_utr5_sequence\n",
    "from pyrion.ops import chains_to_arrays, transcripts_to_arrays\n",
    "from collections import defaultdict"
   ]
  },
  {
   "cell_type": "markdown",
   "id": "fe65b7c82b095cc4",
   "metadata": {},
   "source": [
    "# Loading data"
   ]
  },
  {
   "cell_type": "code",
   "execution_count": 2,
   "id": "72a21481172551ab",
   "metadata": {
    "ExecuteTime": {
     "end_time": "2025-08-02T17:50:42.579802Z",
     "start_time": "2025-08-02T17:50:40.686166Z"
    }
   },
   "outputs": [
    {
     "name": "stdout",
     "output_type": "stream",
     "text": [
      "TranscriptsCollection: 385,669 transcripts across 25 chromosomes, 385,669 coding (100.0%)\n",
      "Source: test_data/hg38.v48.comprehensive.bed\n"
     ]
    }
   ],
   "source": [
    "# load bed12, create a TranscriptsCollection object\n",
    "hg38_annotation = read_bed12_file(\"test_data/hg38.v48.comprehensive.bed\")\n",
    "# load metadata (geneID to transcriptID, transcriptID to biotype, and geneID to name mappings) from a TSV file\n",
    "# returns a GeneData object, containing 3 optional maps\n",
    "hg38_annotation_data = read_gene_data(\"test_data/hg38.biomart.transcripts.data.tsv\",\n",
    "                              gene_column=1,  # since tsv may contain different column names in different order\n",
    "                              transcript_id_column=2,  # specify here column numbers (or names)\n",
    "                              gene_name_column=5,  # values are optional, read_gene_data will try to retrieve as many mappings as possible\n",
    "                              transcript_type_column=6)\n",
    "# this step is necessary to bind transcript data from hg38_annotation to the data retrieved from TSV\n",
    "hg38_annotation.bind_gene_data(hg38_annotation_data)\n",
    "print(hg38_annotation)"
   ]
  },
  {
   "cell_type": "code",
   "execution_count": 3,
   "id": "cc78a4214ef3bb50",
   "metadata": {
    "ExecuteTime": {
     "end_time": "2025-08-02T17:50:43.212603Z",
     "start_time": "2025-08-02T17:50:43.142528Z"
    }
   },
   "outputs": [
    {
     "name": "stdout",
     "output_type": "stream",
     "text": [
      "GenomeAlignmentsCollection: 12,805 alignments across 1 target chroms, 1 query chroms, avg score: 64,609\n",
      "Source: test_data/chains/hg38.chr9.mm39.chr4.chain\n"
     ]
    }
   ],
   "source": [
    "# loading genome alignments in .chain format is easy as\n",
    "hg38_chr9_to_mm39_chr4_chains = read_chain_file(\"test_data/chains/hg38.chr9.mm39.chr4.chain\")\n",
    "print(hg38_chr9_to_mm39_chr4_chains)"
   ]
  },
  {
   "cell_type": "code",
   "execution_count": 4,
   "id": "3a281da0bbc0757b",
   "metadata": {
    "ExecuteTime": {
     "end_time": "2025-08-02T17:50:43.222958Z",
     "start_time": "2025-08-02T17:50:43.217422Z"
    }
   },
   "outputs": [
    {
     "name": "stdout",
     "output_type": "stream",
     "text": [
      "TwoBitAccessor('test_data/two_bit/hg38.chr9.2bit', 1 chromosomes [chr9], 138.4Mb)\n",
      "TwoBitAccessor('test_data/two_bit/mm39.chr4.2bit', 1 chromosomes [chr4], 156.9Mb)\n"
     ]
    }
   ],
   "source": [
    "# TwoBitAccessor connects to a 2bit file and provides API for sequences extraction\n",
    "hg38_chr9_accessor = TwoBitAccessor(\"test_data/two_bit/hg38.chr9.2bit\")\n",
    "mm39_chr4_accessor = TwoBitAccessor(\"test_data/two_bit/mm39.chr4.2bit\")\n",
    "\n",
    "print(hg38_chr9_accessor)\n",
    "print(mm39_chr4_accessor)"
   ]
  },
  {
   "cell_type": "markdown",
   "id": "e2bab9d04f3a3379",
   "metadata": {},
   "source": [
    "# Transcripts canonization"
   ]
  },
  {
   "cell_type": "code",
   "execution_count": 5,
   "id": "e52402bbae78f4ae",
   "metadata": {
    "ExecuteTime": {
     "end_time": "2025-08-02T17:50:44.091484Z",
     "start_time": "2025-08-02T17:50:43.235480Z"
    }
   },
   "outputs": [],
   "source": [
    "# transcripts canonization\n",
    "# pyrion supports canonizer functions, or you can provide geneID-principal transcript ID mapping\n",
    "hg38_annotation.canonize_transcripts(DEFAULT_CANONIZER)"
   ]
  },
  {
   "cell_type": "code",
   "execution_count": 6,
   "id": "9169d761e6c1fe3e",
   "metadata": {
    "ExecuteTime": {
     "end_time": "2025-08-02T17:50:44.104741Z",
     "start_time": "2025-08-02T17:50:44.102878Z"
    }
   },
   "outputs": [
    {
     "name": "stdout",
     "output_type": "stream",
     "text": [
      "Gene(id=ENSG00000136881.12, name=BAAT, chr9:101354181-101385400:-1, 5 transcripts, canonical=ENST00000259407.7)\n",
      "Gene(id=ENSG00000227411.1, name=ACNATP, chr9:101334083-101339347:-1, 1 transcripts, canonical=ENST00000412284.1)\n"
     ]
    }
   ],
   "source": [
    "# extract genes by name; sometimes several genes may have the same name - so returns a list of all candidates\n",
    "baat_gene = hg38_annotation.get_by_gene_name(\"BAAT\")[0]\n",
    "acnatp_gene = hg38_annotation.get_by_gene_name(\"ACNATP\")[0]\n",
    "\n",
    "print(baat_gene.__repr__())\n",
    "print(acnatp_gene.__repr__())"
   ]
  },
  {
   "cell_type": "markdown",
   "id": "5bec723a4805a968",
   "metadata": {},
   "source": [
    "# Intersection basics"
   ]
  },
  {
   "cell_type": "code",
   "execution_count": 7,
   "id": "a3c3d561915442f4",
   "metadata": {
    "ExecuteTime": {
     "end_time": "2025-08-02T17:50:44.143714Z",
     "start_time": "2025-08-02T17:50:44.112706Z"
    }
   },
   "outputs": [
    {
     "name": "stdout",
     "output_type": "stream",
     "text": [
      "Number of alignments intersecting BAAT gene: 9\n",
      "Number of alignments intersecting ACNATP gene: 7\n",
      "Number of alignments intersecting both genes: 2\n",
      "GenomeAlignment(id=2188, score=318,522, T=chr9:101,320,361-101,371,415:+ -> Q=chr4:49,327,911-49,451,117:+, 302 blocks)\n",
      "GenomeAlignment(id=20, score=411,413,821, T=chr9:27,325,074-120,726,664:+ -> Q=chr4:34,948,948-70,461,583:+, 466087 blocks)\n"
     ]
    }
   ],
   "source": [
    "# find chains that intersect both genes\n",
    "intersect_baat = hg38_chr9_to_mm39_chr4_chains.get_alignments_in_interval(baat_gene.canonical_transcript.transcript_interval)\n",
    "print(f\"Number of alignments intersecting BAAT gene: {len(intersect_baat)}\")\n",
    "intersect_acnatp = hg38_chr9_to_mm39_chr4_chains.get_alignments_in_interval(acnatp_gene.canonical_transcript.transcript_interval)\n",
    "print(f\"Number of alignments intersecting ACNATP gene: {len(intersect_acnatp)}\")\n",
    "\n",
    "intersect_both = set(intersect_baat).intersection(intersect_acnatp)\n",
    "print(f\"Number of alignments intersecting both genes: {len(intersect_both)}\")\n",
    "\n",
    "for chain in intersect_both:\n",
    "    print(chain)"
   ]
  },
  {
   "cell_type": "markdown",
   "id": "d4d1ae161d431be5",
   "metadata": {},
   "source": [
    "# Visualization basics"
   ]
  },
  {
   "cell_type": "code",
   "execution_count": 8,
   "id": "7346a53c93a5f9ca",
   "metadata": {
    "ExecuteTime": {
     "end_time": "2025-08-02T17:50:44.566102Z",
     "start_time": "2025-08-02T17:50:44.152274Z"
    }
   },
   "outputs": [
    {
     "data": {
      "image/png": "[encoded data removed]",
      "text/plain": [
       "<Figure size 1200x258 with 1 Axes>"
      ]
     },
     "metadata": {},
     "output_type": "display_data"
    }
   ],
   "source": [
    "# sample visualization\n",
    "# I am sorry that visualizations are not that nice as they could've been\n",
    "# Planning to rework them in future releases\n",
    "\n",
    "show_interval = GenomicInterval(\"chr9\", acnatp_gene.start - 2000, baat_gene.end + 2000)\n",
    "window = VisualizationWindow(show_interval)\n",
    "\n",
    "window.add_track(create_transcript_track(\"BAAT & ACNATP\", [baat_gene.canonical_transcript, acnatp_gene.canonical_transcript]))\n",
    "window.add_track(create_alignment_track(\"Alignments\", intersect_both))\n",
    "window.show()"
   ]
  },
  {
   "cell_type": "markdown",
   "id": "b2a55d317dd5c858",
   "metadata": {},
   "source": [
    "# Liftover chains sample"
   ]
  },
  {
   "cell_type": "code",
   "execution_count": 9,
   "id": "a8c0b7427afaf958",
   "metadata": {
    "ExecuteTime": {
     "end_time": "2025-08-02T17:50:45.484403Z",
     "start_time": "2025-08-02T17:50:44.572951Z"
    }
   },
   "outputs": [
    {
     "name": "stdout",
     "output_type": "stream",
     "text": [
      "chr4:49487806-49510808:+ (chain_20_transcript_ENST00000259407.7)\n",
      "chr4:49445320-49451117:+ (chain_2188_transcript_ENST00000259407.7)\n",
      "chr4:49447307-49451106:+ (chain_20_transcript_ENST00000412284.1)\n",
      "chr4:49380096-49383548:+ (chain_2188_transcript_ENST00000412284.1)\n"
     ]
    }
   ],
   "source": [
    "# chain liftover sample (for 1 transcript - not very efficient)\n",
    "baat_liftover_20 = project_transcript_through_chain(baat_gene.canonical_transcript, hg38_chr9_to_mm39_chr4_chains.get_by_chain_id(20))\n",
    "baat_liftover_2188 = project_transcript_through_chain(baat_gene.canonical_transcript, hg38_chr9_to_mm39_chr4_chains.get_by_chain_id(2188))\n",
    "acnatp_liftover_20 = project_transcript_through_chain(acnatp_gene.canonical_transcript, hg38_chr9_to_mm39_chr4_chains.get_by_chain_id(20))\n",
    "acnatp_liftover_2188 = project_transcript_through_chain(acnatp_gene.canonical_transcript, hg38_chr9_to_mm39_chr4_chains.get_by_chain_id(2188))\n",
    "\n",
    "print(baat_liftover_20)\n",
    "print(baat_liftover_2188)\n",
    "print(acnatp_liftover_20)\n",
    "print(acnatp_liftover_2188)"
   ]
  },
  {
   "cell_type": "code",
   "execution_count": 10,
   "id": "daa05045e294bef0",
   "metadata": {
    "ExecuteTime": {
     "end_time": "2025-08-02T17:50:46.054748Z",
     "start_time": "2025-08-02T17:50:45.503325Z"
    }
   },
   "outputs": [
    {
     "name": "stdout",
     "output_type": "stream",
     "text": [
      "TranscriptsCollection: 278,299 transcripts across 22 chromosomes, 278,299 coding (100.0%)\n",
      "Source: test_data/mm39.vM37.comprehensive.bed\n"
     ]
    }
   ],
   "source": [
    "# find mouse transcripts in these regions\n",
    "mouse_transcripts = read_bed12_file(\"test_data/mm39.vM37.comprehensive.bed\")\n",
    "print(mouse_transcripts)"
   ]
  },
  {
   "cell_type": "code",
   "execution_count": 11,
   "id": "93f39b4a2714d385",
   "metadata": {
    "ExecuteTime": {
     "end_time": "2025-08-02T17:50:46.231137Z",
     "start_time": "2025-08-02T17:50:46.059141Z"
    }
   },
   "outputs": [
    {
     "name": "stdout",
     "output_type": "stream",
     "text": [
      "Transcripts intersecting chr4:49487806-49510808:+ (chain_20_transcript_ENST00000259407.7)\n",
      "['ENSMUST00000262144.1', 'ENSMUST00000262145.1', 'ENSMUST00000262146.1', 'ENSMUST00000262148.1', 'ENSMUST00000262147.1', 'ENSMUST00000043056.9', 'ENSMUST00000166036.2', 'ENSMUST00000306766.1']\n",
      "Transcripts intersecting chr4:49445320-49451117:+ (chain_2188_transcript_ENST00000259407.7)\n",
      "['ENSMUST00000107697.2', 'ENSMUST00000095086.3', 'ENSMUST00000135976.2']\n",
      "Transcripts intersecting chr4:49447307-49451106:+ (chain_20_transcript_ENST00000412284.1)\n",
      "['ENSMUST00000107697.2', 'ENSMUST00000095086.3', 'ENSMUST00000135976.2']\n",
      "Transcripts intersecting chr4:49380096-49383548:+ (chain_2188_transcript_ENST00000412284.1)\n",
      "['ENSMUST00000081541.9', 'ENSMUST00000107698.8', 'ENSMUST00000125123.2', 'ENSMUST00000139564.2']\n"
     ]
    }
   ],
   "source": [
    "for interval in [baat_liftover_20, baat_liftover_2188, acnatp_liftover_20, acnatp_liftover_2188]:\n",
    "    mm39_intersects = mouse_transcripts.get_transcripts_in_interval(interval)\n",
    "    print(f\"Transcripts intersecting {interval}\")\n",
    "    print([t.id for t in mm39_intersects])"
   ]
  },
  {
   "cell_type": "markdown",
   "id": "3bed6e6a25b5d442",
   "metadata": {},
   "source": [
    "# Sequences basics"
   ]
  },
  {
   "cell_type": "code",
   "execution_count": 12,
   "id": "eef85be71580a324",
   "metadata": {
    "ExecuteTime": {
     "end_time": "2025-08-02T17:50:46.253523Z",
     "start_time": "2025-08-02T17:50:46.241472Z"
    }
   },
   "outputs": [
    {
     "name": "stdout",
     "output_type": "stream",
     "text": [
      "BAAT CDS: ATGATCCAGTTGACAGCTACCCCTGTGAGTGCACTTGTTGATGAGCCAGTGCATATCCGAGCTACAGGCCTGATTCCCTTTCAGATGGTGAGTTTTCAGGCATCACTGGAAGATGAAAACGGAGACATGTTTTATTCTCAAGCCCACTATAGGGCCAATGAATTCGGTGAGGTGGACCTGAATCATGCTTCTTCACTTGGAGGGGATTATATGGGAGTCCACCCCATGGGTCTCTTCTGGTCTCTGAAACCTGAAAAGCTATTAACAAGACTGTTGAAAAGAGATGTGATGAATAGGCCTTTCCAGGTCCAAGTAAAACTTTATGACTTAGAGTTAATAGTGAACAATAAAGTTGCCAGTGCTCCAAAGGCCAGCCTGACTTTGGAGAGGTGGTATGTGGCACCTGGTGTCACACGAATTAAGGTTCGAGAAGGCCGCCTTCGAGGAGCTCTCTTTCTCCCTCCAGGAGAGGGTCTCTTCCCAGGGGTAATTGATTTGTTTGGTGGTTTGGGTGGGCTGCTTGAATTTCGGGCCAGCCTCCTAGCCAGTCGTGGCTTCGCCTCCTTGGCCTTGGCTTACCATAACTATGAAGACCTGCCCCGCAAACCAGAAGTAACAGATTTGGAATATTTTGAGGAGGCTGCCAACTTTCTCCTGAGACATCCAAAGGTCTTTGGCTCAGGCGTTGGGGTAGTCTCTGTATGTCAAGGAGTACAGATTGGACTATCTATGGCTATTTACCTAAAGCAAGTCACAGCCACGGTACTTATTAATGGGACCAACTTTCCTTTTGGCATTCCACAGGTATATCATGGTCAGATCCATCAGCCCCTTCCCCATTCTGCACAATTAATATCCACCAATGCCTTGGGGTTACTAGAGCTCTATCGCACTTTTGAGACAACTCAAGTTGGGGCCAGTCAATATTTGTTTCCTATTGAAGAGGCCCAGGGGCAATTCCTCTTCATTGTAGGAGAAGGTGATAAGACTATCAACAGCAAAGCACACGCTGAACAAGCCATAGGACAGCTGAAGAGACATGGGAAGAACAACTGGACCCTGCTATCTTACCCTGGGGCAGGCCACCTGATAGAACCTCCCTATTCTCCTCTGTGCTGTGCCTCAACGACCCACGATTTGAGGTTACACTGGGGAGGAGAGGTGATCCCACACGCAGCTGCACAGGAACATGCTTGGAAGGAGATCCAGAGATTTCTCAGGAAGCACCTCATTCCAGATGTGACCAGTCAACTCTAA\n",
      "BAAT 3'UTR: GAAGACTAGATATTCCTAGAAAATAAAGAAGCAAATCTCTTTACCGGGACCTTCTCTCAATTTTCATGGCGGAATGTCTCCCCCAGCTGCCACACACACATTTTGTATTAATTTTAATGATTAAAAAGAGCATAGGGTAAAAACCTGATATTTCACTTATACTGCATAACAAGCTAACCAAACTGGACATGGTGAATAAATCATAAAACAAATCATTTTACTTATTATTTACATGACTTTTCTTTCCATCAGGTCTTCTAAATAGGACTGAGGTATAGTACACTGGCAAAAATAAGAAAAGGCAAACAAGAATAGCACCAAAGTAACAGATATAAAACCAAATACCATGTCAGAAAACACTATATAGTAAGAATTTATCAGATTAGAGCAGCAGGAGAAAATTAATACTAAATTATAATCATTTTAGTGATATTTTTCAACTTCACCACAGTAACTTTGCAACATCATTTTTCATTTGTGGGGTAGTAAAATTCATGTCAAAAAGGAAAGAAGGAATGGAGGAGGTCAGTTAGTTCATTGCAATAAATTACCTCTTCAGTTCTTAAAAACATGCCCATTGGCACATAACTGAGACATAATAACTAAGACTGGAAGAGCCTTGGTTTAAGTTATGAAGCAAATTAAAATGGAAAATACAAGAAAATAGAACCAATTAGGTTGAAAATGCCCCTTACTGAAAATCTGTATTAAAAATAAAATTAATAAAAGTAAAAAATAAAAATAGAAACACAACTCTACTAGTACAGGCTAGCCTGGGGAGTTTGATAAACTGAGTGATTGGGTCAACTATCACTGTACTTCCATAATGAATTTCTTCAGTCATGTTAGAGTAGCACATGAATGTGAGCTCTATAAGGACAGGTACTATATTTCCGTAAGACCCAATAGTTACTGTACATCCCATAAATAAAAAATACTTTAGTTTGCTAACCAACTGAATATATGAGGACTGCATGTAATTCAACCACATGGTTGTTTGCTGTACAGTCCTTTGCAAATATTAAAAAATTTTTTTTGCTATAAGGCTTTGATCATATAGTCCTCATAGCAACATAACTACCATCTAGCATGTACCACATTTTGCAAGACTTTAAGTTCAACATTCCAAACTGCCAATTTGTATTATGTCCAAATGCAGTATCCTTGAGGAATATAGTGGGTCAGTTAAATATCTAGAGACATACAAACATCTGCTAATTCATCTCATTGAGATGGATCATTCTGATCTCCATCATCCACCCACTTTTCATCAGCTTCTCCTACTTCATTCTCCTCATAGTCTTTATCATGAGGGATTCTGTATCCTGTCTCTCATCTACACTTGCTGGCCTTCCTGGTTGTGATTTATTGGAACAGTCTACACAAAAACCATAGGGTCAAGATCCATGTCTTACTCCAACACTGGCTGCTAACATGATCTTACATACCATACATTTGCATTTTTATCCTTCTTGTGCACCAAGAAATGTTTTCTTACATGTTTTCTCCAAGTGTAAAAAGTCACAGCTAAATGATCTCACTCCTGTATGAATAAGCAAGTGCTTTTTTAGTGTTTGTTTGCATTTGGCTGCATAGCTACAATGATGGCATTTTAACTTATTCATGATTAGAGATGATGATATGGTTTGGATATTTGTTGTGCCCAAATTTCATGCTGAAATGTAATCCCTAGTGTTGGAGGTGAGGCCTGGTGGGAGTTGTTTGGGTCATGGGGGTGGACCCTCATGGCTTGGTACTGTCCTCATGAGAGTATGATAGTGAGTGAGTTCTCAAGAGATATGACTGTTTAAAAGTGTGTGGCACCTCCTCCCCATCCTCACACTCTTTCTTGCCTCCTCTCTCGCCATGTGAGATGCCTCCTCGCTGTTCACCTGCTGCCATGATTGTAAACTTCCTGAGGCCTCCCCAGAAGCCAAGTAGATGCAAGCATTATGCTTCTGTAAAGCCTGCAGGACCATGATCCAATTAAATCTCTTTTCTTTATAAATTA\n",
      "BAAT 5'UTR: GGCCTCACGGTCCTGCTGATATGTGACATCACCCCCGGAGGCCCAGCTGTAAATTCCTCTCTTTGTACTCTTTCTCTTTATTTCTCAGACCAGCCGACACTTAGGGAAAATAGAACCTACGCTGAAATTTTGGGGGCAGGTTCTCTTGCTAGGTTTTGAGGTTTTGCTGAAGATATTCCTGAAGAATCATCCCAGGTGCCACACTAAAAAA\n",
      "Translated protein: MIQLTATPVSALVDEPVHIRATGLIPFQMVSFQASLEDENGDMFYSQAHYRANEFGEVDLNHASSLGGDYMGVHPMGLFWSLKPEKLLTRLLKRDVMNRPFQVQVKLYDLELIVNNKVASAPKASLTLERWYVAPGVTRIKVREGRLRGALFLPPGEGLFPGVIDLFGGLGGLLEFRASLLASRGFASLALAYHNYEDLPRKPEVTDLEYFEEAANFLLRHPKVFGSGVGVVSVCQGVQIGLSMAIYLKQVTATVLINGTNFPFGIPQVYHGQIHQPLPHSAQLISTNALGLLELYRTFETTQVGASQYLFPIEEAQGQFLFIVGEGDKTINSKAHAEQAIGQLKRHGKNNWTLLSYPGAGHLIEPPYSPLCCASTTHDLRLHWGGEVIPHAAAQEHAWKEIQRFLRKHLIPDVTSQL*\n"
     ]
    }
   ],
   "source": [
    "# to extract sequences use transcript + sequence accessor (2bit, fasta, fasta+fai)\n",
    "baat_cds = extract_cds_sequence(baat_gene.canonical_transcript, hg38_chr9_accessor)\n",
    "print(f\"BAAT CDS: {baat_cds}\")\n",
    "baat_3utr = extract_utr3_sequence(baat_gene.canonical_transcript, hg38_chr9_accessor)\n",
    "baat_5utr = extract_utr5_sequence(baat_gene.canonical_transcript, hg38_chr9_accessor)\n",
    "print(f\"BAAT 3'UTR: {baat_3utr}\")\n",
    "print(f\"BAAT 5'UTR: {baat_5utr}\")\n",
    "\n",
    "baat_proten = baat_cds.to_amino_acids()\n",
    "print(f\"Translated protein: {baat_proten}\")"
   ]
  },
  {
   "cell_type": "markdown",
   "id": "29e78e333fbe0766",
   "metadata": {},
   "source": [
    "# Intersections, a bit more advanced.\n",
    "\n",
    "Core data structures store intervals data as 2D numpy arrays [(start, end) ... ].\n",
    "So, massive intersection operations can benefit from it the power of vectorized numpy operations."
   ]
  },
  {
   "cell_type": "code",
   "execution_count": 13,
   "id": "f299a321da18de56",
   "metadata": {
    "ExecuteTime": {
     "end_time": "2025-08-02T17:50:46.533859Z",
     "start_time": "2025-08-02T17:50:46.259942Z"
    }
   },
   "outputs": [
    {
     "name": "stdout",
     "output_type": "stream",
     "text": [
      "Found intersections vs trancsripts for 11294 chains\n",
      "1992588 [(np.str_('ENST00000642633.1'), np.int64(172)), (np.str_('ENST00000837655.1'), np.int64(172)), (np.str_('ENST00000646046.1'), np.int64(166))]\n"
     ]
    }
   ],
   "source": [
    "chrom_transcripts = hg38_annotation.get_by_chrom(\"chr9\")\n",
    "\n",
    "chain_arr, chain_id_arr = chains_to_arrays(hg38_chr9_to_mm39_chr4_chains)  # convert to 2D array for fast intersections\n",
    "transcript_arr, transcript_id_arr = transcripts_to_arrays(chrom_transcripts)  # same for transcripts, IDs array will be needed to map everything back\n",
    "\n",
    "intersections = find_intersections(chain_arr, transcript_arr, chain_id_arr, transcript_id_arr)\n",
    "print(f\"Found intersections vs trancsripts for {len(intersections)} chains\")\n",
    "\n",
    "for chain_id, intersection_data in intersections.items():\n",
    "    print(chain_id, intersection_data)\n",
    "    break\n",
    "\n",
    "# intersection data provides tuples of (transrcipt_ID, intersection size)"
   ]
  },
  {
   "cell_type": "markdown",
   "id": "848ddd90667b4ee8",
   "metadata": {},
   "source": [
    "# Fasta examples"
   ]
  },
  {
   "cell_type": "code",
   "execution_count": 14,
   "id": "5487e621a0d73bf8",
   "metadata": {
    "ExecuteTime": {
     "end_time": "2025-08-02T17:50:46.591965Z",
     "start_time": "2025-08-02T17:50:46.543509Z"
    }
   },
   "outputs": [
    {
     "name": "stdout",
     "output_type": "stream",
     "text": [
      "<pyrion.core.sequences_collection.SequencesCollection object at 0x3146afaf0>\n"
     ]
    }
   ],
   "source": [
    "arf5_fasta = read_fasta(\"test_data/fasta/ARF5.fasta\", SequenceType.DNA)\n",
    "print(arf5_fasta)"
   ]
  },
  {
   "cell_type": "code",
   "execution_count": 15,
   "id": "c3e7b4643bfa17c",
   "metadata": {
    "ExecuteTime": {
     "end_time": "2025-08-02T17:50:46.606718Z",
     "start_time": "2025-08-02T17:50:46.601927Z"
    }
   },
   "outputs": [
    {
     "name": "stdout",
     "output_type": "stream",
     "text": [
      "MGLTVSALFSRIFGKKQMRILMVGLDAAGKTTILYKLKLGEIVTTIPTIGFNVETVEYKNICFTVWDVGGQDKIRPLWRHYFQNTQGLIFVVDSNDRERVQESADELQKMLQEDELRDAVLLVFANKQDMPNAMPVSELTDKLGLQHLRSRTWYVQATCATQGTGLYDGLDWLSHELSKRX\n"
     ]
    }
   ],
   "source": [
    "reference_sequence = arf5_fasta.get(\"REFERENCE\")\n",
    "print(reference_sequence.to_amino_acids())"
   ]
  },
  {
   "cell_type": "code",
   "execution_count": 16,
   "id": "91b65586e34978c9",
   "metadata": {
    "ExecuteTime": {
     "end_time": "2025-08-02T17:50:46.624971Z",
     "start_time": "2025-08-02T17:50:46.615790Z"
    }
   },
   "outputs": [
    {
     "name": "stdout",
     "output_type": "stream",
     "text": [
      "without_frameshift:\n",
      "ATGGGCCTCACCGTGTCCGCGCTCTTTTCGCGGATCTTCGGGAAGAAGCAGATGCGGATTCTCATGGTTGGCTTGGATGCGGCTGGCAAGACCACAATCCTGTACAAACTGAAGTTGGGGGAGATTGTCACCACCATCCCAACCATAGGCTTCAATGTAGAAACAGTGGAATATAAGAACATCTGTTTCACAGTCTGGGACGTGGGAGGCCAGGACAAGATTCGGCCTCTGTGGCGGCACTACTTCCAGAACACTCAGGGCCTCATCTTTGTGGTGGACAGTAATGACCGGGAGCGGGTCCAAGAATCTGCTGATGAACTCCAGAAGATGCTGCAGGAGGACGAGCTGCGGGATGCAGTGCTGCTGGTATTTGCCAACAAGCAGGACATGCCCAACGCCATGCCCGTGAGCGAGCTGACTGACAAGCTGGGGCTACAGCACTTACGCAGCCGCACGTGGTATGTCCAGGCCACCTGTGCCACCCAAGGCACAGGTCTGTACGATGGTCTGGACTGGCTGTCCCACGAGCTGTCAAAGCGCNNN\n",
      "MGLTVSALFSRIFGKKQMRILMVGLDAAGKTTILYKLKLGEIVTTIPTIGFNVETVEYKNICFTVWDVGGQDKIRPLWRHYFQNTQGLIFVVDSNDRERVQESADELQKMLQEDELRDAVLLVFANKQDMPNAMPVSELTDKLGLQHLRSRTWYVQATCATQGTGLYDGLDWLSHELSKRX\n",
      "Let's insert frameshift to position 100 (shown as !):\n",
      "ATGGGCCTCACCGTGTCCGCGCTCTTTTCGCGGATCTTCGGGAAGAAGCAGATGCGGATTCTCATGGTTGGCTTGGATGCGGCTGGCAAGACCACAATCCT!GTACAAACTGAAGTTGGGGGAGATTGTCACCACCATCCCAACCATAGGCTTCAATGTAGAAACAGTGGAATATAAGAACATCTGTTTCACAGTCTGGGACGTGGGAGGCCAGGACAAGATTCGGCCTCTGTGGCGGCACTACTTCCAGAACACTCAGGGCCTCATCTTTGTGGTGGACAGTAATGACCGGGAGCGGGTCCAAGAATCTGCTGATGAACTCCAGAAGATGCTGCAGGAGGACGAGCTGCGGGATGCAGTGCTGCTGGTATTTGCCAACAAGCAGGACATGCCCAACGCCATGCCCGTGAGCGAGCTGACTGACAAGCTGGGGCTACAGCACTTACGCAGCCGCACGTGGTATGTCCAGGCCACCTGTGCCACCCAAGGCACAGGTCTGTACGATGGTCTGGACTGGCTGTCCCACGAGCTGTCAAAGCGCNNN\n",
      "MGLTVSALFSRIFGKKQMRILMVGLDAAGKTTIXVQTEVGGDCHHHPNHRLQCRNSGI*EHLFHSLGRGRPGQDSASVAALLPEHSGPHLCGGQ**PGAGPRIC**TPEDAAGGRAAGCSAAGICQQAGHAQRHARERAD*QAGATALTQPHVVCPGHLCHPRHRSVRWSGLAVPRAVKAXX\n",
      "[Codon('ATG', is_rna=False, complete), Codon('GGC', is_rna=False, complete), Codon('CTC', is_rna=False, complete), Codon('ACC', is_rna=False, complete), Codon('GTG', is_rna=False, complete), Codon('TCC', is_rna=False, complete), Codon('GCG', is_rna=False, complete), Codon('CTC', is_rna=False, complete), Codon('TTT', is_rna=False, complete), Codon('TCG', is_rna=False, complete), Codon('CGG', is_rna=False, complete), Codon('ATC', is_rna=False, complete), Codon('TTC', is_rna=False, complete), Codon('GGG', is_rna=False, complete), Codon('AAG', is_rna=False, complete), Codon('AAG', is_rna=False, complete), Codon('CAG', is_rna=False, complete), Codon('ATG', is_rna=False, complete), Codon('CGG', is_rna=False, complete), Codon('ATT', is_rna=False, complete), Codon('CTC', is_rna=False, complete), Codon('ATG', is_rna=False, complete), Codon('GTT', is_rna=False, complete), Codon('GGC', is_rna=False, complete), Codon('TTG', is_rna=False, complete), Codon('GAT', is_rna=False, complete), Codon('GCG', is_rna=False, complete), Codon('GCT', is_rna=False, complete), Codon('GGC', is_rna=False, complete), Codon('AAG', is_rna=False, complete), Codon('ACC', is_rna=False, complete), Codon('ACA', is_rna=False, complete), Codon('ATC', is_rna=False, complete), Codon('CT!', is_rna=False, complete), Codon('GTA', is_rna=False, complete), Codon('CAA', is_rna=False, complete), Codon('ACT', is_rna=False, complete), Codon('GAA', is_rna=False, complete), Codon('GTT', is_rna=False, complete), Codon('GGG', is_rna=False, complete), Codon('GGA', is_rna=False, complete), Codon('GAT', is_rna=False, complete), Codon('TGT', is_rna=False, complete), Codon('CAC', is_rna=False, complete), Codon('CAC', is_rna=False, complete), Codon('CAT', is_rna=False, complete), Codon('CCC', is_rna=False, complete), Codon('AAC', is_rna=False, complete), Codon('CAT', is_rna=False, complete), Codon('AGG', is_rna=False, complete), Codon('CTT', is_rna=False, complete), Codon('CAA', is_rna=False, complete), Codon('TGT', is_rna=False, complete), Codon('AGA', is_rna=False, complete), Codon('AAC', is_rna=False, complete), Codon('AGT', is_rna=False, complete), Codon('GGA', is_rna=False, complete), Codon('ATA', is_rna=False, complete), Codon('TAA', is_rna=False, complete), Codon('GAA', is_rna=False, complete), Codon('CAT', is_rna=False, complete), Codon('CTG', is_rna=False, complete), Codon('TTT', is_rna=False, complete), Codon('CAC', is_rna=False, complete), Codon('AGT', is_rna=False, complete), Codon('CTG', is_rna=False, complete), Codon('GGA', is_rna=False, complete), Codon('CGT', is_rna=False, complete), Codon('GGG', is_rna=False, complete), Codon('AGG', is_rna=False, complete), Codon('CCA', is_rna=False, complete), Codon('GGA', is_rna=False, complete), Codon('CAA', is_rna=False, complete), Codon('GAT', is_rna=False, complete), Codon('TCG', is_rna=False, complete), Codon('GCC', is_rna=False, complete), Codon('TCT', is_rna=False, complete), Codon('GTG', is_rna=False, complete), Codon('GCG', is_rna=False, complete), Codon('GCA', is_rna=False, complete), Codon('CTA', is_rna=False, complete), Codon('CTT', is_rna=False, complete), Codon('CCA', is_rna=False, complete), Codon('GAA', is_rna=False, complete), Codon('CAC', is_rna=False, complete), Codon('TCA', is_rna=False, complete), Codon('GGG', is_rna=False, complete), Codon('CCT', is_rna=False, complete), Codon('CAT', is_rna=False, complete), Codon('CTT', is_rna=False, complete), Codon('TGT', is_rna=False, complete), Codon('GGT', is_rna=False, complete), Codon('GGA', is_rna=False, complete), Codon('CAG', is_rna=False, complete), Codon('TAA', is_rna=False, complete), Codon('TGA', is_rna=False, complete), Codon('CCG', is_rna=False, complete), Codon('GGA', is_rna=False, complete), Codon('GCG', is_rna=False, complete), Codon('GGT', is_rna=False, complete), Codon('CCA', is_rna=False, complete), Codon('AGA', is_rna=False, complete), Codon('ATC', is_rna=False, complete), Codon('TGC', is_rna=False, complete), Codon('TGA', is_rna=False, complete), Codon('TGA', is_rna=False, complete), Codon('ACT', is_rna=False, complete), Codon('CCA', is_rna=False, complete), Codon('GAA', is_rna=False, complete), Codon('GAT', is_rna=False, complete), Codon('GCT', is_rna=False, complete), Codon('GCA', is_rna=False, complete), Codon('GGA', is_rna=False, complete), Codon('GGA', is_rna=False, complete), Codon('CGA', is_rna=False, complete), Codon('GCT', is_rna=False, complete), Codon('GCG', is_rna=False, complete), Codon('GGA', is_rna=False, complete), Codon('TGC', is_rna=False, complete), Codon('AGT', is_rna=False, complete), Codon('GCT', is_rna=False, complete), Codon('GCT', is_rna=False, complete), Codon('GGT', is_rna=False, complete), Codon('ATT', is_rna=False, complete), Codon('TGC', is_rna=False, complete), Codon('CAA', is_rna=False, complete), Codon('CAA', is_rna=False, complete), Codon('GCA', is_rna=False, complete), Codon('GGA', is_rna=False, complete), Codon('CAT', is_rna=False, complete), Codon('GCC', is_rna=False, complete), Codon('CAA', is_rna=False, complete), Codon('CGC', is_rna=False, complete), Codon('CAT', is_rna=False, complete), Codon('GCC', is_rna=False, complete), Codon('CGT', is_rna=False, complete), Codon('GAG', is_rna=False, complete), Codon('CGA', is_rna=False, complete), Codon('GCT', is_rna=False, complete), Codon('GAC', is_rna=False, complete), Codon('TGA', is_rna=False, complete), Codon('CAA', is_rna=False, complete), Codon('GCT', is_rna=False, complete), Codon('GGG', is_rna=False, complete), Codon('GCT', is_rna=False, complete), Codon('ACA', is_rna=False, complete), Codon('GCA', is_rna=False, complete), Codon('CTT', is_rna=False, complete), Codon('ACG', is_rna=False, complete), Codon('CAG', is_rna=False, complete), Codon('CCG', is_rna=False, complete), Codon('CAC', is_rna=False, complete), Codon('GTG', is_rna=False, complete), Codon('GTA', is_rna=False, complete), Codon('TGT', is_rna=False, complete), Codon('CCA', is_rna=False, complete), Codon('GGC', is_rna=False, complete), Codon('CAC', is_rna=False, complete), Codon('CTG', is_rna=False, complete), Codon('TGC', is_rna=False, complete), Codon('CAC', is_rna=False, complete), Codon('CCA', is_rna=False, complete), Codon('AGG', is_rna=False, complete), Codon('CAC', is_rna=False, complete), Codon('AGG', is_rna=False, complete), Codon('TCT', is_rna=False, complete), Codon('GTA', is_rna=False, complete), Codon('CGA', is_rna=False, complete), Codon('TGG', is_rna=False, complete), Codon('TCT', is_rna=False, complete), Codon('GGA', is_rna=False, complete), Codon('CTG', is_rna=False, complete), Codon('GCT', is_rna=False, complete), Codon('GTC', is_rna=False, complete), Codon('CCA', is_rna=False, complete), Codon('CGA', is_rna=False, complete), Codon('GCT', is_rna=False, complete), Codon('GTC', is_rna=False, complete), Codon('AAA', is_rna=False, complete), Codon('GCG', is_rna=False, complete), Codon('CNN', is_rna=False, complete), Codon('N', is_rna=False, incomplete)]\n"
     ]
    }
   ],
   "source": [
    "# let's try introducing a frameshift\n",
    "reference_codons = reference_sequence.to_codons()\n",
    "reference_codons.remove_gaps()\n",
    "print(\"without_frameshift:\")\n",
    "print(reference_codons)\n",
    "print(reference_codons.translate())\n",
    "\n",
    "print(\"Let's insert frameshift to position 100 (shown as !):\")\n",
    "reference_codons.insert_frameshift(100)\n",
    "print(reference_codons)\n",
    "print(reference_codons.translate())\n",
    "print(reference_codons.get_codons())"
   ]
  }
 ],
 "metadata": {
  "kernelspec": {
   "display_name": ".venv",
   "language": "python",
   "name": "python3"
  },
  "language_info": {
   "codemirror_mode": {
    "name": "ipython",
    "version": 3
   },
   "file_extension": ".py",
   "mimetype": "text/x-python",
   "name": "python",
   "nbconvert_exporter": "python",
   "pygments_lexer": "ipython3",
   "version": "3.10.12"
  }
 },
 "nbformat": 4,
 "nbformat_minor": 5
}
